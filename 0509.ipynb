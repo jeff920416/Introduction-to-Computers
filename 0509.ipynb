{
  "nbformat": 4,
  "nbformat_minor": 0,
  "metadata": {
    "colab": {
      "name": "0509.ipynb",
      "provenance": [],
      "authorship_tag": "ABX9TyOoLHtcIUAXptpflWin6h7+",
      "include_colab_link": true
    },
    "kernelspec": {
      "name": "python3",
      "display_name": "Python 3"
    },
    "language_info": {
      "name": "python"
    }
  },
  "cells": [
    {
      "cell_type": "markdown",
      "metadata": {
        "id": "view-in-github",
        "colab_type": "text"
      },
      "source": [
        "<a href=\"https://colab.research.google.com/github/jeff920416/Introduction-to-Computers/blob/main/0509.ipynb\" target=\"_parent\"><img src=\"https://colab.research.google.com/assets/colab-badge.svg\" alt=\"Open In Colab\"/></a>"
      ]
    },
    {
      "cell_type": "code",
      "execution_count": 1,
      "metadata": {
        "colab": {
          "base_uri": "https://localhost:8080/"
        },
        "id": "Of8MYXkKGgiD",
        "outputId": "385b4781-7ead-4fa2-b9b0-7053b776c2c9"
      },
      "outputs": [
        {
          "output_type": "stream",
          "name": "stdout",
          "text": [
            "123\n"
          ]
        }
      ],
      "source": [
        "print(\"123\")"
      ]
    },
    {
      "cell_type": "code",
      "source": [
        "temp=float(input(\" 請輸入你的體溫\"))\n",
        "if temp >=37.5:\n",
        "   print(\" 體溫過高!\")\n",
        "elif temp >=37 and temp < 37.4:\n",
        "    print(\" 體溫略高!\")\n",
        "elif temp >=34 and temp <= 36.9:\n",
        "    print(\" 體溫正常!\")\n",
        "\n",
        "else:\n",
        "    print(\" 體溫異常,請重新測量!\")"
      ],
      "metadata": {
        "colab": {
          "base_uri": "https://localhost:8080/"
        },
        "id": "7ypXgmULHj9p",
        "outputId": "ff2ec7e9-5da6-4f95-d617-3f39c3ec5b27"
      },
      "execution_count": 5,
      "outputs": [
        {
          "output_type": "stream",
          "name": "stdout",
          "text": [
            " 請輸入你的體溫33.9\n",
            " 體溫異常,請重新測量!\n"
          ]
        }
      ]
    },
    {
      "cell_type": "code",
      "source": [
        "score=input(\" 請輸入成績\")\n",
        "if(int(score)>=90):\n",
        "   print(\"A\")\n",
        "elif(int(score)>=80):\n",
        "    print(\"B\")\n",
        "elif(int(score)>=70):\n",
        "    print(\"C\")\n",
        "elif(int(score)>=60):\n",
        "    print(\"D\")\n",
        "else:\n",
        "    print(\"E\")"
      ],
      "metadata": {
        "colab": {
          "base_uri": "https://localhost:8080/"
        },
        "id": "JdXxB-lVKNLm",
        "outputId": "5a3ca092-c0b1-45cf-9154-e20f5315dc56"
      },
      "execution_count": 6,
      "outputs": [
        {
          "output_type": "stream",
          "name": "stdout",
          "text": [
            " 請輸入成績50\n",
            "E\n"
          ]
        }
      ]
    },
    {
      "cell_type": "code",
      "source": [
        "money=int(input(\"請輸入購物金額:\"))\n",
        "if(money>=10000):\n",
        "  if(money>=100000):\n",
        "    print(\"八折\",money*0.8, end = \"元\\n\")\n",
        "  elif(money>=50000):\n",
        "    print(\"八五折\",money*0.85, end = \"元\\n\")\n",
        "  elif(money>=30000):\n",
        "    print(\"九折\",money*0.9, end = \"元\\n\")\n",
        "  else:\n",
        "      print(\"九五折\",money*0.95,end=\"元\\n\")\n",
        "else:\n",
        "  print(\"沒打折\",money,end=\"元\\n\")"
      ],
      "metadata": {
        "colab": {
          "base_uri": "https://localhost:8080/"
        },
        "id": "wYS1ln5kNP4y",
        "outputId": "f80563a0-6ee4-4279-8d75-8670e2bcbd79"
      },
      "execution_count": 11,
      "outputs": [
        {
          "output_type": "stream",
          "name": "stdout",
          "text": [
            "請輸入購物金額:50000\n",
            "八五折 42500.0元\n"
          ]
        }
      ]
    }
  ]
}
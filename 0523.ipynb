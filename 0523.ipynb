{
  "nbformat": 4,
  "nbformat_minor": 0,
  "metadata": {
    "colab": {
      "name": "0523.ipynb",
      "provenance": [],
      "authorship_tag": "ABX9TyNw9pEue8nsbchYQIxeFknU",
      "include_colab_link": true
    },
    "kernelspec": {
      "name": "python3",
      "display_name": "Python 3"
    },
    "language_info": {
      "name": "python"
    }
  },
  "cells": [
    {
      "cell_type": "markdown",
      "metadata": {
        "id": "view-in-github",
        "colab_type": "text"
      },
      "source": [
        "<a href=\"https://colab.research.google.com/github/jeff920416/Introduction-to-Computers/blob/main/0523.ipynb\" target=\"_parent\"><img src=\"https://colab.research.google.com/assets/colab-badge.svg\" alt=\"Open In Colab\"/></a>"
      ]
    },
    {
      "cell_type": "code",
      "execution_count": 1,
      "metadata": {
        "colab": {
          "base_uri": "https://localhost:8080/"
        },
        "id": "Bu9QFk11N4kF",
        "outputId": "58e49cda-c98d-4cf6-e7d0-f6682b7c375f"
      },
      "outputs": [
        {
          "output_type": "stream",
          "name": "stdout",
          "text": [
            "0523\n"
          ]
        }
      ],
      "source": [
        "print(\"0523\")"
      ]
    },
    {
      "cell_type": "code",
      "source": [
        "sum=0\n",
        "test=int(input(\"請輸入一個正整數:\"))\n",
        "for n in range(1, test+1):\n",
        "    sum=sum+n\n",
        "print(\"1到\",test,\" 的整數何為\",sum)"
      ],
      "metadata": {
        "colab": {
          "base_uri": "https://localhost:8080/"
        },
        "id": "xOnL45VsN9xd",
        "outputId": "7267c104-62aa-408c-d2cd-92a5ff260be7"
      },
      "execution_count": 7,
      "outputs": [
        {
          "output_type": "stream",
          "name": "stdout",
          "text": [
            "請輸入一個正整數:50\n",
            "1到 50  的整數何為 1275\n"
          ]
        }
      ]
    },
    {
      "cell_type": "code",
      "source": [
        "sum=0\n",
        "test=int(input(\"請輸入一個正整數:\"))\n",
        "for m in range(1, test+1):\n",
        "    sum=sum+m\n",
        "    print(\"1到\",str(m),\" 的整數何為\",sum)"
      ],
      "metadata": {
        "colab": {
          "base_uri": "https://localhost:8080/"
        },
        "id": "W1e9BR4CP0Nq",
        "outputId": "71f6021c-540e-425c-b255-aaede9fc3aeb"
      },
      "execution_count": 10,
      "outputs": [
        {
          "output_type": "stream",
          "name": "stdout",
          "text": [
            "請輸入一個正整數:50\n",
            "1到 1  的整數何為 1\n",
            "1到 2  的整數何為 3\n",
            "1到 3  的整數何為 6\n",
            "1到 4  的整數何為 10\n",
            "1到 5  的整數何為 15\n",
            "1到 6  的整數何為 21\n",
            "1到 7  的整數何為 28\n",
            "1到 8  的整數何為 36\n",
            "1到 9  的整數何為 45\n",
            "1到 10  的整數何為 55\n",
            "1到 11  的整數何為 66\n",
            "1到 12  的整數何為 78\n",
            "1到 13  的整數何為 91\n",
            "1到 14  的整數何為 105\n",
            "1到 15  的整數何為 120\n",
            "1到 16  的整數何為 136\n",
            "1到 17  的整數何為 153\n",
            "1到 18  的整數何為 171\n",
            "1到 19  的整數何為 190\n",
            "1到 20  的整數何為 210\n",
            "1到 21  的整數何為 231\n",
            "1到 22  的整數何為 253\n",
            "1到 23  的整數何為 276\n",
            "1到 24  的整數何為 300\n",
            "1到 25  的整數何為 325\n",
            "1到 26  的整數何為 351\n",
            "1到 27  的整數何為 378\n",
            "1到 28  的整數何為 406\n",
            "1到 29  的整數何為 435\n",
            "1到 30  的整數何為 465\n",
            "1到 31  的整數何為 496\n",
            "1到 32  的整數何為 528\n",
            "1到 33  的整數何為 561\n",
            "1到 34  的整數何為 595\n",
            "1到 35  的整數何為 630\n",
            "1到 36  的整數何為 666\n",
            "1到 37  的整數何為 703\n",
            "1到 38  的整數何為 741\n",
            "1到 39  的整數何為 780\n",
            "1到 40  的整數何為 820\n",
            "1到 41  的整數何為 861\n",
            "1到 42  的整數何為 903\n",
            "1到 43  的整數何為 946\n",
            "1到 44  的整數何為 990\n",
            "1到 45  的整數何為 1035\n",
            "1到 46  的整數何為 1081\n",
            "1到 47  的整數何為 1128\n",
            "1到 48  的整數何為 1176\n",
            "1到 49  的整數何為 1225\n",
            "1到 50  的整數何為 1275\n"
          ]
        }
      ]
    },
    {
      "cell_type": "code",
      "source": [
        "for j in range(1,5+1):\n",
        "    print(j)\n",
        "    for i in range(1,3):\n",
        "        k=i*j\n",
        "        print(j,\"*\",i,\"=\",k)"
      ],
      "metadata": {
        "colab": {
          "base_uri": "https://localhost:8080/"
        },
        "id": "sV9vYE1xoLQm",
        "outputId": "c2d939ec-c572-4ddb-8252-e74982a183e0"
      },
      "execution_count": 12,
      "outputs": [
        {
          "output_type": "stream",
          "name": "stdout",
          "text": [
            "1\n",
            "1 * 1 = 1\n",
            "1 * 2 = 2\n",
            "2\n",
            "2 * 1 = 2\n",
            "2 * 2 = 4\n",
            "3\n",
            "3 * 1 = 3\n",
            "3 * 2 = 6\n",
            "4\n",
            "4 * 1 = 4\n",
            "4 * 2 = 8\n",
            "5\n",
            "5 * 1 = 5\n",
            "5 * 2 = 10\n"
          ]
        }
      ]
    },
    {
      "cell_type": "code",
      "source": [
        "for i in range(1,5):\n",
        "    if (i==4):\n",
        "         break\n",
        "    print(i,end=\" \")"
      ],
      "metadata": {
        "colab": {
          "base_uri": "https://localhost:8080/"
        },
        "id": "JShH5B2JpF-B",
        "outputId": "5e7947ae-b83a-446f-87b2-7d034e8e4691"
      },
      "execution_count": 13,
      "outputs": [
        {
          "output_type": "stream",
          "name": "stdout",
          "text": [
            "1 2 3 "
          ]
        }
      ]
    },
    {
      "cell_type": "code",
      "source": [
        "count = 0\n",
        "for string in '測試看看！':\n",
        "    count+=1\n",
        "    if string =='看':\n",
        "        break\n",
        "    print(string)\n",
        "\n",
        "print('迴圈結束!')\n",
        "print('迴圈執行了%d次' %count)"
      ],
      "metadata": {
        "colab": {
          "base_uri": "https://localhost:8080/"
        },
        "id": "wl2gfXNEpq2n",
        "outputId": "8f859813-7008-47e1-af24-abbfe89e7478"
      },
      "execution_count": 16,
      "outputs": [
        {
          "output_type": "stream",
          "name": "stdout",
          "text": [
            "測\n",
            "試\n",
            "迴圈結束!\n",
            "迴圈執行了3次\n"
          ]
        }
      ]
    },
    {
      "cell_type": "code",
      "source": [
        "count = 0\n",
        "for string in 'jeff':\n",
        "    count+=1\n",
        "    if string =='f':\n",
        "        break\n",
        "    print(string)\n",
        "\n",
        "print('迴圈結束!')\n",
        "print('迴圈執行了%d次' %count)"
      ],
      "metadata": {
        "colab": {
          "base_uri": "https://localhost:8080/"
        },
        "id": "ZuTL6IizsHqz",
        "outputId": "db8362a3-d971-4b54-a1d6-680c61f74e07"
      },
      "execution_count": 18,
      "outputs": [
        {
          "output_type": "stream",
          "name": "stdout",
          "text": [
            "j\n",
            "e\n",
            "迴圈結束!\n",
            "迴圈執行了3次\n"
          ]
        }
      ]
    },
    {
      "cell_type": "code",
      "source": [
        "for i in  range(1,10):\n",
        "    for j in range(1,10):\n",
        "        print(\"{}*{}={}\\t\".format(i,j,i*j),end=\" \")\n",
        "    print()"
      ],
      "metadata": {
        "colab": {
          "base_uri": "https://localhost:8080/"
        },
        "id": "MA519j7isdhh",
        "outputId": "343fe7ad-6089-4af6-a6d3-20cd854112c0"
      },
      "execution_count": 19,
      "outputs": [
        {
          "output_type": "stream",
          "name": "stdout",
          "text": [
            "1*1=1\t 1*2=2\t 1*3=3\t 1*4=4\t 1*5=5\t 1*6=6\t 1*7=7\t 1*8=8\t 1*9=9\t \n",
            "2*1=2\t 2*2=4\t 2*3=6\t 2*4=8\t 2*5=10\t 2*6=12\t 2*7=14\t 2*8=16\t 2*9=18\t \n",
            "3*1=3\t 3*2=6\t 3*3=9\t 3*4=12\t 3*5=15\t 3*6=18\t 3*7=21\t 3*8=24\t 3*9=27\t \n",
            "4*1=4\t 4*2=8\t 4*3=12\t 4*4=16\t 4*5=20\t 4*6=24\t 4*7=28\t 4*8=32\t 4*9=36\t \n",
            "5*1=5\t 5*2=10\t 5*3=15\t 5*4=20\t 5*5=25\t 5*6=30\t 5*7=35\t 5*8=40\t 5*9=45\t \n",
            "6*1=6\t 6*2=12\t 6*3=18\t 6*4=24\t 6*5=30\t 6*6=36\t 6*7=42\t 6*8=48\t 6*9=54\t \n",
            "7*1=7\t 7*2=14\t 7*3=21\t 7*4=28\t 7*5=35\t 7*6=42\t 7*7=49\t 7*8=56\t 7*9=63\t \n",
            "8*1=8\t 8*2=16\t 8*3=24\t 8*4=32\t 8*5=40\t 8*6=48\t 8*7=56\t 8*8=64\t 8*9=72\t \n",
            "9*1=9\t 9*2=18\t 9*3=27\t 9*4=36\t 9*5=45\t 9*6=54\t 9*7=63\t 9*8=72\t 9*9=81\t \n"
          ]
        }
      ]
    },
    {
      "cell_type": "code",
      "source": [
        "a=int(input(\"請輸入請輸入a的值的值:\"))\n",
        "b=int(input(\"請輸入請輸入b的值的值:\"))\n",
        "\n",
        "for i in range(1,(a+b)+1):\n",
        "    if (i%a==0 and i%b==0):\n",
        "       break\n",
        "print(\" 最小公倍數=%d\"%(i))"
      ],
      "metadata": {
        "colab": {
          "base_uri": "https://localhost:8080/"
        },
        "id": "X4NBUHss85a9",
        "outputId": "14485618-c981-4b32-dd6c-7e16a06c8d71"
      },
      "execution_count": 21,
      "outputs": [
        {
          "output_type": "stream",
          "name": "stdout",
          "text": [
            "請輸入請輸入a的值的值:4\n",
            "請輸入請輸入b的值的值:6\n",
            " 最小公倍數=10\n"
          ]
        }
      ]
    },
    {
      "cell_type": "code",
      "source": [
        "n=int(input(\" 請輸入正整數:\"))\n",
        "\n",
        "for i in range(1,n+1):\n",
        "    if i % 3== 0:\n",
        "        continue\n",
        "    print(i , end=\" \")"
      ],
      "metadata": {
        "colab": {
          "base_uri": "https://localhost:8080/"
        },
        "id": "Eerw30HQB3ZI",
        "outputId": "6b945146-5afb-4f8e-a100-dd4400ae682d"
      },
      "execution_count": 28,
      "outputs": [
        {
          "output_type": "stream",
          "name": "stdout",
          "text": [
            " 請輸入正整數:21\n",
            "1 2 4 5 7 8 10 11 13 14 16 17 19 20 "
          ]
        }
      ]
    }
  ]
}
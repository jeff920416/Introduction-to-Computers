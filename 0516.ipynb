{
  "nbformat": 4,
  "nbformat_minor": 0,
  "metadata": {
    "colab": {
      "name": "0516.ipynb",
      "provenance": [],
      "authorship_tag": "ABX9TyM3/y4DlwdbVVFCeooWNhwV",
      "include_colab_link": true
    },
    "kernelspec": {
      "name": "python3",
      "display_name": "Python 3"
    },
    "language_info": {
      "name": "python"
    }
  },
  "cells": [
    {
      "cell_type": "markdown",
      "metadata": {
        "id": "view-in-github",
        "colab_type": "text"
      },
      "source": [
        "<a href=\"https://colab.research.google.com/github/jeff920416/Introduction-to-Computers/blob/main/0516.ipynb\" target=\"_parent\"><img src=\"https://colab.research.google.com/assets/colab-badge.svg\" alt=\"Open In Colab\"/></a>"
      ]
    },
    {
      "cell_type": "code",
      "execution_count": 1,
      "metadata": {
        "colab": {
          "base_uri": "https://localhost:8080/"
        },
        "id": "x2AKqJJg_55W",
        "outputId": "28358603-1d78-48a2-ce8c-9ddfcf4a1219"
      },
      "outputs": [
        {
          "output_type": "stream",
          "name": "stdout",
          "text": [
            "123\n"
          ]
        }
      ],
      "source": [
        "print(\"123\")"
      ]
    },
    {
      "cell_type": "code",
      "source": [
        "i= range(5)"
      ],
      "metadata": {
        "id": "as3x1-tTAAF8"
      },
      "execution_count": 2,
      "outputs": []
    },
    {
      "cell_type": "code",
      "source": [
        "print(type(i))"
      ],
      "metadata": {
        "colab": {
          "base_uri": "https://localhost:8080/"
        },
        "id": "WbOzU8N4AEva",
        "outputId": "0c5ff00c-da49-4403-aba7-7b80dec0f984"
      },
      "execution_count": 3,
      "outputs": [
        {
          "output_type": "stream",
          "name": "stdout",
          "text": [
            "<class 'range'>\n"
          ]
        }
      ]
    },
    {
      "cell_type": "code",
      "source": [
        "print(i)"
      ],
      "metadata": {
        "colab": {
          "base_uri": "https://localhost:8080/"
        },
        "id": "3IWKC2pPAIsw",
        "outputId": "13182366-422e-4128-b380-f35b043f0ae1"
      },
      "execution_count": 4,
      "outputs": [
        {
          "output_type": "stream",
          "name": "stdout",
          "text": [
            "range(0, 5)\n"
          ]
        }
      ]
    },
    {
      "cell_type": "code",
      "source": [
        "print(list(i))"
      ],
      "metadata": {
        "colab": {
          "base_uri": "https://localhost:8080/"
        },
        "id": "CuWEpLlTALmr",
        "outputId": "1be4e4e3-6325-459f-a388-e31b6610e653"
      },
      "execution_count": 5,
      "outputs": [
        {
          "output_type": "stream",
          "name": "stdout",
          "text": [
            "[0, 1, 2, 3, 4]\n"
          ]
        }
      ]
    },
    {
      "cell_type": "code",
      "source": [
        "a=range(3,8)\n",
        "print(list(a))"
      ],
      "metadata": {
        "colab": {
          "base_uri": "https://localhost:8080/"
        },
        "id": "w_n_UWAbAP0c",
        "outputId": "8f28c89a-390d-46d1-f4fb-b8b7eacbfed2"
      },
      "execution_count": 6,
      "outputs": [
        {
          "output_type": "stream",
          "name": "stdout",
          "text": [
            "[3, 4, 5, 6, 7]\n"
          ]
        }
      ]
    },
    {
      "cell_type": "code",
      "source": [
        "b=range(-2,4)\n",
        "print(list(b))"
      ],
      "metadata": {
        "colab": {
          "base_uri": "https://localhost:8080/"
        },
        "id": "9M9_ATSnAZJm",
        "outputId": "456aca29-0694-4ea9-a0a8-faf75a9dc865"
      },
      "execution_count": 7,
      "outputs": [
        {
          "output_type": "stream",
          "name": "stdout",
          "text": [
            "[-2, -1, 0, 1, 2, 3]\n"
          ]
        }
      ]
    },
    {
      "cell_type": "code",
      "source": [
        "c=range(3,8,1)\n",
        "print(list(c))"
      ],
      "metadata": {
        "colab": {
          "base_uri": "https://localhost:8080/"
        },
        "id": "Lkk4gADDApMd",
        "outputId": "e4089a05-3dae-47c3-8794-3346b9fb1762"
      },
      "execution_count": 8,
      "outputs": [
        {
          "output_type": "stream",
          "name": "stdout",
          "text": [
            "[3, 4, 5, 6, 7]\n"
          ]
        }
      ]
    },
    {
      "cell_type": "code",
      "source": [
        "f=range(9)\n",
        "print(list(f))"
      ],
      "metadata": {
        "colab": {
          "base_uri": "https://localhost:8080/"
        },
        "id": "mFxhAVb6A0hu",
        "outputId": "7fcb4d92-178d-4237-cff2-7a63688d4aae"
      },
      "execution_count": 10,
      "outputs": [
        {
          "output_type": "stream",
          "name": "stdout",
          "text": [
            "[0, 1, 2, 3, 4, 5, 6, 7, 8]\n"
          ]
        }
      ]
    },
    {
      "cell_type": "code",
      "source": [
        "g=range(1,10)\n",
        "print(list(g))"
      ],
      "metadata": {
        "colab": {
          "base_uri": "https://localhost:8080/"
        },
        "id": "wy4XKfXSCIt1",
        "outputId": "bed0eca5-ec3f-4a8c-f78b-e3df165249e8"
      },
      "execution_count": 11,
      "outputs": [
        {
          "output_type": "stream",
          "name": "stdout",
          "text": [
            "[1, 2, 3, 4, 5, 6, 7, 8, 9]\n"
          ]
        }
      ]
    },
    {
      "cell_type": "code",
      "source": [
        "h=range(1,10,2)\n",
        "print(list(h))"
      ],
      "metadata": {
        "colab": {
          "base_uri": "https://localhost:8080/"
        },
        "id": "rtpvxQpUCQr4",
        "outputId": "7bc72a50-1fa9-4a47-af4d-1f7cdc618999"
      },
      "execution_count": 12,
      "outputs": [
        {
          "output_type": "stream",
          "name": "stdout",
          "text": [
            "[1, 3, 5, 7, 9]\n"
          ]
        }
      ]
    },
    {
      "cell_type": "code",
      "source": [
        "i=range(10,1,-2)\n",
        "print(list(i))"
      ],
      "metadata": {
        "colab": {
          "base_uri": "https://localhost:8080/"
        },
        "id": "iEyuMpowCar9",
        "outputId": "a8da0563-8789-4aa7-cda8-410460b7a01a"
      },
      "execution_count": 13,
      "outputs": [
        {
          "output_type": "stream",
          "name": "stdout",
          "text": [
            "[10, 8, 6, 4, 2]\n"
          ]
        }
      ]
    },
    {
      "cell_type": "code",
      "source": [
        "for n in range(3):\n",
        "   print(n)"
      ],
      "metadata": {
        "colab": {
          "base_uri": "https://localhost:8080/"
        },
        "id": "8HJlLAm3Cjs0",
        "outputId": "c80c2563-908d-4fe2-d2cd-1af4827fefbe"
      },
      "execution_count": 14,
      "outputs": [
        {
          "output_type": "stream",
          "name": "stdout",
          "text": [
            "0\n",
            "1\n",
            "2\n"
          ]
        }
      ]
    },
    {
      "cell_type": "code",
      "source": [
        "for n in range(10):\n",
        "   print(n,end=\",\")"
      ],
      "metadata": {
        "colab": {
          "base_uri": "https://localhost:8080/"
        },
        "id": "AZX0l972C86j",
        "outputId": "da57a52b-3465-4b04-e59b-7a47ad696134"
      },
      "execution_count": 15,
      "outputs": [
        {
          "output_type": "stream",
          "name": "stdout",
          "text": [
            "0,1,2,3,4,5,6,7,8,9,"
          ]
        }
      ]
    },
    {
      "cell_type": "code",
      "source": [
        "for n in range(0,10,2):\n",
        "   print(n,end=\",\")"
      ],
      "metadata": {
        "colab": {
          "base_uri": "https://localhost:8080/"
        },
        "id": "X3aNKX9BC9I6",
        "outputId": "82ed6ccc-1076-4517-d754-182c8a169994"
      },
      "execution_count": 18,
      "outputs": [
        {
          "output_type": "stream",
          "name": "stdout",
          "text": [
            "0,2,4,6,8,"
          ]
        }
      ]
    },
    {
      "cell_type": "code",
      "source": [
        "test=int(input(\" 請輸入一個正整數：\"))\n",
        "for m in range(1,test+1):\n",
        "  print(m,end=\" \")"
      ],
      "metadata": {
        "colab": {
          "base_uri": "https://localhost:8080/"
        },
        "id": "BIjImm_oC9vt",
        "outputId": "a4136504-d6ad-40de-fcd2-d839c68b57fc"
      },
      "execution_count": 19,
      "outputs": [
        {
          "output_type": "stream",
          "name": "stdout",
          "text": [
            " 請輸入一個正整數：12\n",
            "1 2 3 4 5 6 7 8 9 10 11 12 "
          ]
        }
      ]
    },
    {
      "cell_type": "code",
      "source": [
        "sum = 0\n",
        "for n in range(3):\n",
        "   sum= sum+n\n",
        "print(sum)\n"
      ],
      "metadata": {
        "colab": {
          "base_uri": "https://localhost:8080/"
        },
        "id": "40nAQkUgGVHy",
        "outputId": "d22591b6-d4cf-4816-85e6-82d16dfd1094"
      },
      "execution_count": 38,
      "outputs": [
        {
          "output_type": "stream",
          "name": "stdout",
          "text": [
            "3\n"
          ]
        }
      ]
    },
    {
      "cell_type": "code",
      "source": [
        "sum = 0\n",
        "for n in range(10,1,-2):\n",
        "   sum= sum+n\n",
        "print(sum)"
      ],
      "metadata": {
        "colab": {
          "base_uri": "https://localhost:8080/"
        },
        "id": "5iV4kzL_GVfu",
        "outputId": "a97f23c4-636c-44a9-9f63-aa3638da764f"
      },
      "execution_count": 31,
      "outputs": [
        {
          "output_type": "stream",
          "name": "stdout",
          "text": [
            "30\n"
          ]
        }
      ]
    },
    {
      "cell_type": "code",
      "source": [
        "a=int(input(\" 輸入值\"))\n",
        "sum=0\n",
        "for i in range(1,a+1):\n",
        "   sum+= i\n",
        "print(\"1到\",a,\"的總和為\",sum)"
      ],
      "metadata": {
        "colab": {
          "base_uri": "https://localhost:8080/"
        },
        "id": "SV5mdiTCMRsg",
        "outputId": "f04e4065-54f4-4a2a-cbb2-aa9e82d8f18e"
      },
      "execution_count": 35,
      "outputs": [
        {
          "output_type": "stream",
          "name": "stdout",
          "text": [
            " 輸入值10\n",
            "1到 10 的總和為 55\n"
          ]
        }
      ]
    },
    {
      "cell_type": "code",
      "source": [
        "a= int(input(\"輸入值\"))\n",
        "\n",
        "sum=0\n",
        "for i in range(1,a+1):\n",
        "    sum+= i\n",
        "    print(\"1到\",i,\"的總和為：\",sum,\"\\n\")"
      ],
      "metadata": {
        "colab": {
          "base_uri": "https://localhost:8080/"
        },
        "id": "MuGtg-5ZXLY0",
        "outputId": "890cd753-d5e5-4ed9-ddb1-f296ce8c4b8b"
      },
      "execution_count": 39,
      "outputs": [
        {
          "output_type": "stream",
          "name": "stdout",
          "text": [
            "輸入值100\n",
            "1到 1 的總和為： 1 \n",
            "\n",
            "1到 2 的總和為： 3 \n",
            "\n",
            "1到 3 的總和為： 6 \n",
            "\n",
            "1到 4 的總和為： 10 \n",
            "\n",
            "1到 5 的總和為： 15 \n",
            "\n",
            "1到 6 的總和為： 21 \n",
            "\n",
            "1到 7 的總和為： 28 \n",
            "\n",
            "1到 8 的總和為： 36 \n",
            "\n",
            "1到 9 的總和為： 45 \n",
            "\n",
            "1到 10 的總和為： 55 \n",
            "\n",
            "1到 11 的總和為： 66 \n",
            "\n",
            "1到 12 的總和為： 78 \n",
            "\n",
            "1到 13 的總和為： 91 \n",
            "\n",
            "1到 14 的總和為： 105 \n",
            "\n",
            "1到 15 的總和為： 120 \n",
            "\n",
            "1到 16 的總和為： 136 \n",
            "\n",
            "1到 17 的總和為： 153 \n",
            "\n",
            "1到 18 的總和為： 171 \n",
            "\n",
            "1到 19 的總和為： 190 \n",
            "\n",
            "1到 20 的總和為： 210 \n",
            "\n",
            "1到 21 的總和為： 231 \n",
            "\n",
            "1到 22 的總和為： 253 \n",
            "\n",
            "1到 23 的總和為： 276 \n",
            "\n",
            "1到 24 的總和為： 300 \n",
            "\n",
            "1到 25 的總和為： 325 \n",
            "\n",
            "1到 26 的總和為： 351 \n",
            "\n",
            "1到 27 的總和為： 378 \n",
            "\n",
            "1到 28 的總和為： 406 \n",
            "\n",
            "1到 29 的總和為： 435 \n",
            "\n",
            "1到 30 的總和為： 465 \n",
            "\n",
            "1到 31 的總和為： 496 \n",
            "\n",
            "1到 32 的總和為： 528 \n",
            "\n",
            "1到 33 的總和為： 561 \n",
            "\n",
            "1到 34 的總和為： 595 \n",
            "\n",
            "1到 35 的總和為： 630 \n",
            "\n",
            "1到 36 的總和為： 666 \n",
            "\n",
            "1到 37 的總和為： 703 \n",
            "\n",
            "1到 38 的總和為： 741 \n",
            "\n",
            "1到 39 的總和為： 780 \n",
            "\n",
            "1到 40 的總和為： 820 \n",
            "\n",
            "1到 41 的總和為： 861 \n",
            "\n",
            "1到 42 的總和為： 903 \n",
            "\n",
            "1到 43 的總和為： 946 \n",
            "\n",
            "1到 44 的總和為： 990 \n",
            "\n",
            "1到 45 的總和為： 1035 \n",
            "\n",
            "1到 46 的總和為： 1081 \n",
            "\n",
            "1到 47 的總和為： 1128 \n",
            "\n",
            "1到 48 的總和為： 1176 \n",
            "\n",
            "1到 49 的總和為： 1225 \n",
            "\n",
            "1到 50 的總和為： 1275 \n",
            "\n",
            "1到 51 的總和為： 1326 \n",
            "\n",
            "1到 52 的總和為： 1378 \n",
            "\n",
            "1到 53 的總和為： 1431 \n",
            "\n",
            "1到 54 的總和為： 1485 \n",
            "\n",
            "1到 55 的總和為： 1540 \n",
            "\n",
            "1到 56 的總和為： 1596 \n",
            "\n",
            "1到 57 的總和為： 1653 \n",
            "\n",
            "1到 58 的總和為： 1711 \n",
            "\n",
            "1到 59 的總和為： 1770 \n",
            "\n",
            "1到 60 的總和為： 1830 \n",
            "\n",
            "1到 61 的總和為： 1891 \n",
            "\n",
            "1到 62 的總和為： 1953 \n",
            "\n",
            "1到 63 的總和為： 2016 \n",
            "\n",
            "1到 64 的總和為： 2080 \n",
            "\n",
            "1到 65 的總和為： 2145 \n",
            "\n",
            "1到 66 的總和為： 2211 \n",
            "\n",
            "1到 67 的總和為： 2278 \n",
            "\n",
            "1到 68 的總和為： 2346 \n",
            "\n",
            "1到 69 的總和為： 2415 \n",
            "\n",
            "1到 70 的總和為： 2485 \n",
            "\n",
            "1到 71 的總和為： 2556 \n",
            "\n",
            "1到 72 的總和為： 2628 \n",
            "\n",
            "1到 73 的總和為： 2701 \n",
            "\n",
            "1到 74 的總和為： 2775 \n",
            "\n",
            "1到 75 的總和為： 2850 \n",
            "\n",
            "1到 76 的總和為： 2926 \n",
            "\n",
            "1到 77 的總和為： 3003 \n",
            "\n",
            "1到 78 的總和為： 3081 \n",
            "\n",
            "1到 79 的總和為： 3160 \n",
            "\n",
            "1到 80 的總和為： 3240 \n",
            "\n",
            "1到 81 的總和為： 3321 \n",
            "\n",
            "1到 82 的總和為： 3403 \n",
            "\n",
            "1到 83 的總和為： 3486 \n",
            "\n",
            "1到 84 的總和為： 3570 \n",
            "\n",
            "1到 85 的總和為： 3655 \n",
            "\n",
            "1到 86 的總和為： 3741 \n",
            "\n",
            "1到 87 的總和為： 3828 \n",
            "\n",
            "1到 88 的總和為： 3916 \n",
            "\n",
            "1到 89 的總和為： 4005 \n",
            "\n",
            "1到 90 的總和為： 4095 \n",
            "\n",
            "1到 91 的總和為： 4186 \n",
            "\n",
            "1到 92 的總和為： 4278 \n",
            "\n",
            "1到 93 的總和為： 4371 \n",
            "\n",
            "1到 94 的總和為： 4465 \n",
            "\n",
            "1到 95 的總和為： 4560 \n",
            "\n",
            "1到 96 的總和為： 4656 \n",
            "\n",
            "1到 97 的總和為： 4753 \n",
            "\n",
            "1到 98 的總和為： 4851 \n",
            "\n",
            "1到 99 的總和為： 4950 \n",
            "\n",
            "1到 100 的總和為： 5050 \n",
            "\n"
          ]
        }
      ]
    }
  ]
}
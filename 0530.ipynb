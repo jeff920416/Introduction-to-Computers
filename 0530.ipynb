{
  "nbformat": 4,
  "nbformat_minor": 0,
  "metadata": {
    "colab": {
      "name": "0530.ipynb",
      "provenance": [],
      "authorship_tag": "ABX9TyNnxBOqxWN7qbxq5oQ+CSPr",
      "include_colab_link": true
    },
    "kernelspec": {
      "name": "python3",
      "display_name": "Python 3"
    },
    "language_info": {
      "name": "python"
    }
  },
  "cells": [
    {
      "cell_type": "markdown",
      "metadata": {
        "id": "view-in-github",
        "colab_type": "text"
      },
      "source": [
        "<a href=\"https://colab.research.google.com/github/jeff920416/Introduction-to-Computers/blob/main/0530.ipynb\" target=\"_parent\"><img src=\"https://colab.research.google.com/assets/colab-badge.svg\" alt=\"Open In Colab\"/></a>"
      ]
    },
    {
      "cell_type": "code",
      "execution_count": 2,
      "metadata": {
        "colab": {
          "base_uri": "https://localhost:8080/"
        },
        "id": "HiEfoNnjBl4s",
        "outputId": "dc6da4b4-8136-4a48-cd95-286cc421700f"
      },
      "outputs": [
        {
          "output_type": "stream",
          "name": "stdout",
          "text": [
            "0530\n"
          ]
        }
      ],
      "source": [
        "print('0530')"
      ]
    },
    {
      "cell_type": "markdown",
      "source": [
        "九九乘法表"
      ],
      "metadata": {
        "id": "jO2AzzLhCGAS"
      }
    },
    {
      "cell_type": "code",
      "source": [
        "for i in range(2,10):\n",
        "    for j in range(1,10):\n",
        "        product= i+j\n",
        "        print(\"%d*%d=%2d   \" % (i,j,product),end=\" \")\n",
        "    print( )"
      ],
      "metadata": {
        "colab": {
          "base_uri": "https://localhost:8080/"
        },
        "id": "LaJkXC4ZCGr-",
        "outputId": "d7b2382c-47ff-4799-f281-008a0169affe"
      },
      "execution_count": 4,
      "outputs": [
        {
          "output_type": "stream",
          "name": "stdout",
          "text": [
            "2*1= 3    2*2= 4    2*3= 5    2*4= 6    2*5= 7    2*6= 8    2*7= 9    2*8=10    2*9=11    \n",
            "3*1= 4    3*2= 5    3*3= 6    3*4= 7    3*5= 8    3*6= 9    3*7=10    3*8=11    3*9=12    \n",
            "4*1= 5    4*2= 6    4*3= 7    4*4= 8    4*5= 9    4*6=10    4*7=11    4*8=12    4*9=13    \n",
            "5*1= 6    5*2= 7    5*3= 8    5*4= 9    5*5=10    5*6=11    5*7=12    5*8=13    5*9=14    \n",
            "6*1= 7    6*2= 8    6*3= 9    6*4=10    6*5=11    6*6=12    6*7=13    6*8=14    6*9=15    \n",
            "7*1= 8    7*2= 9    7*3=10    7*4=11    7*5=12    7*6=13    7*7=14    7*8=15    7*9=16    \n",
            "8*1= 9    8*2=10    8*3=11    8*4=12    8*5=13    8*6=14    8*7=15    8*8=16    8*9=17    \n",
            "9*1=10    9*2=11    9*3=12    9*4=13    9*5=14    9*6=15    9*7=16    9*8=17    9*9=18    \n"
          ]
        }
      ]
    },
    {
      "cell_type": "markdown",
      "source": [
        "最小公倍數"
      ],
      "metadata": {
        "id": "Lpu69t55Dpob"
      }
    },
    {
      "cell_type": "code",
      "source": [
        "a=int(input(\"請輸入a的值\"))\n",
        "b=int(input(\"請輸入b的值\"))\n",
        "\n",
        "maxno=a*b\n",
        "for i in range(1,maxno+1):\n",
        "    if(i%a==0 and i%b==0):\n",
        "        break\n",
        "print(\"%d和%d的最小公倍數=%d\"%(a,b,i))"
      ],
      "metadata": {
        "colab": {
          "base_uri": "https://localhost:8080/"
        },
        "id": "NueSD6IvDuwj",
        "outputId": "1bf5865c-7759-4e46-e327-d792b77a986d"
      },
      "execution_count": 8,
      "outputs": [
        {
          "output_type": "stream",
          "name": "stdout",
          "text": [
            "請輸入a的值4\n",
            "請輸入b的值5\n",
            "4和5的最小公倍數=20\n"
          ]
        }
      ]
    },
    {
      "cell_type": "markdown",
      "source": [
        "排除數列中5的倍數"
      ],
      "metadata": {
        "id": "dQvaKP3zGPsV"
      }
    },
    {
      "cell_type": "code",
      "source": [
        "n=int(input(\"請輸入正整數:\"))\n",
        "for i in range(1,n+1):\n",
        "    if i % 5==0:\n",
        "        continue\n",
        "    print(i,end=\" \")"
      ],
      "metadata": {
        "colab": {
          "base_uri": "https://localhost:8080/"
        },
        "id": "aHpqlWneGYcx",
        "outputId": "c2d0fe44-4ed2-4ea3-e488-6092aff971f6"
      },
      "execution_count": 9,
      "outputs": [
        {
          "output_type": "stream",
          "name": "stdout",
          "text": [
            "請輸入正整數:21\n",
            "1 2 3 4 6 7 8 9 11 12 13 14 16 17 18 19 21 "
          ]
        }
      ]
    },
    {
      "cell_type": "markdown",
      "source": [
        "while"
      ],
      "metadata": {
        "id": "N33Y2g7WHPW2"
      }
    },
    {
      "cell_type": "code",
      "source": [
        "total=n=0\n",
        "while(n<=10):\n",
        "    total+=n\n",
        "    n+=1\n",
        "print(total)"
      ],
      "metadata": {
        "colab": {
          "base_uri": "https://localhost:8080/"
        },
        "id": "ifppyPBrIOwr",
        "outputId": "77411bf0-2453-4db7-cd37-fd5cf336cb42"
      },
      "execution_count": 10,
      "outputs": [
        {
          "output_type": "stream",
          "name": "stdout",
          "text": [
            "55\n"
          ]
        }
      ]
    },
    {
      "cell_type": "code",
      "source": [
        "total=n=0\n",
        "while n<=10:\n",
        "    total+=n\n",
        "    n+=1\n",
        "print(total)"
      ],
      "metadata": {
        "colab": {
          "base_uri": "https://localhost:8080/"
        },
        "id": "_GsUNT-qIvSy",
        "outputId": "ed1abf64-4f8c-4a2a-98be-aac644925451"
      },
      "execution_count": 11,
      "outputs": [
        {
          "output_type": "stream",
          "name": "stdout",
          "text": [
            "55\n"
          ]
        }
      ]
    },
    {
      "cell_type": "code",
      "source": [
        "total = i =1\n",
        "n = int(input(\" 請輸入正整數n得值: \"))\n",
        "while i<=n:\n",
        "    total *=i\n",
        "    i+=1\n",
        "print(\"%d!=%d\"% (n,total))"
      ],
      "metadata": {
        "colab": {
          "base_uri": "https://localhost:8080/"
        },
        "id": "8TZb6x2IJ79w",
        "outputId": "ff5e2378-f02d-4aca-cd01-2c852a71e2cd"
      },
      "execution_count": 12,
      "outputs": [
        {
          "output_type": "stream",
          "name": "stdout",
          "text": [
            " 請輸入正整數n得值: 100\n",
            "100!=93326215443944152681699238856266700490715968264381621468592963895217599993229915608941463976156518286253697920827223758251185210916864000000000000000000000000\n"
          ]
        }
      ]
    },
    {
      "cell_type": "code",
      "source": [
        "sum=0\n",
        "i=1\n",
        "while i <50:\n",
        "    sum+=i\n",
        "    i +=2\n",
        "print(\"0~50的奇數和:\"+str(sum))"
      ],
      "metadata": {
        "colab": {
          "base_uri": "https://localhost:8080/"
        },
        "id": "iWtDIYnJSyiu",
        "outputId": "0835911d-01f8-4280-fd45-6c3cd108d8cf"
      },
      "execution_count": 27,
      "outputs": [
        {
          "output_type": "stream",
          "name": "stdout",
          "text": [
            "0~50的奇數和:625\n"
          ]
        }
      ]
    },
    {
      "cell_type": "code",
      "source": [
        "sum=0\n",
        "i=1\n",
        "while i <50:\n",
        "    sum+=i\n",
        "    i +=1\n",
        "print(\"0~50的偶數和:\"+str(sum))"
      ],
      "metadata": {
        "colab": {
          "base_uri": "https://localhost:8080/"
        },
        "id": "UMC0Hn2uThVz",
        "outputId": "8ae78d87-baa4-416b-8e9a-862b91d51d47"
      },
      "execution_count": 33,
      "outputs": [
        {
          "output_type": "stream",
          "name": "stdout",
          "text": [
            "0~50的偶數和:1225\n"
          ]
        }
      ]
    },
    {
      "cell_type": "code",
      "source": [
        "n=int(input(\" 請輸入正整數:\"))\n",
        "\n",
        "for i in range(n,0,-1):\n",
        "    for j in range(i,0,-1):\n",
        "        print(\"*\",end=\"\")\n",
        "    print( )"
      ],
      "metadata": {
        "colab": {
          "base_uri": "https://localhost:8080/"
        },
        "id": "3fv7OPzcUytU",
        "outputId": "71207641-ad28-47fb-d547-f928a142bbaa"
      },
      "execution_count": 19,
      "outputs": [
        {
          "output_type": "stream",
          "name": "stdout",
          "text": [
            " 請輸入正整數:5\n",
            "*****\n",
            "****\n",
            "***\n",
            "**\n",
            "*\n"
          ]
        }
      ]
    },
    {
      "cell_type": "code",
      "source": [
        "n=int(input(\" 請輸入正整數:\"))\n",
        "\n",
        "for i in range(n,0,-1):\n",
        "    for j in range(i,0,-1):\n",
        "        print(\"*\",end=\"\")\n",
        "    print( )"
      ],
      "metadata": {
        "colab": {
          "base_uri": "https://localhost:8080/"
        },
        "id": "V6yQCAvFWqJh",
        "outputId": "5079afa1-d46c-4f78-a297-8085b4153fa1"
      },
      "execution_count": 20,
      "outputs": [
        {
          "output_type": "stream",
          "name": "stdout",
          "text": [
            " 請輸入正整數:7\n",
            "*******\n",
            "******\n",
            "*****\n",
            "****\n",
            "***\n",
            "**\n",
            "*\n"
          ]
        }
      ]
    },
    {
      "cell_type": "code",
      "source": [
        "sum=0\n",
        "for i in range(1,100):\n",
        "    if i%3==0 or i%7 ==0:\n",
        "        sum+=i\n",
        "print(\"1~100中，3或7的倍數總和=\" +str(sum))"
      ],
      "metadata": {
        "colab": {
          "base_uri": "https://localhost:8080/"
        },
        "id": "TQxNYDYSXi-y",
        "outputId": "de4ff504-5248-4cab-c6b3-3a9ed2c638af"
      },
      "execution_count": 21,
      "outputs": [
        {
          "output_type": "stream",
          "name": "stdout",
          "text": [
            "1~100中，3或7的倍數總和=2208\n"
          ]
        }
      ]
    },
    {
      "cell_type": "code",
      "source": [
        "n=int(input(\"請輸入正整數:\"))\n",
        "\n",
        "for i in range(2,n):\n",
        "    if n%i==0:\n",
        "        print(str(n)+\" 不是質數\")\n",
        "        break\n",
        "else:\n",
        "    print(str(n)+\"是質數\")"
      ],
      "metadata": {
        "colab": {
          "base_uri": "https://localhost:8080/"
        },
        "id": "p4mi1PNnYkhW",
        "outputId": "921341f4-835a-4847-c5fe-6001a39de7ed"
      },
      "execution_count": 22,
      "outputs": [
        {
          "output_type": "stream",
          "name": "stdout",
          "text": [
            "請輸入正整數:12\n",
            "12 不是質數\n"
          ]
        }
      ]
    },
    {
      "cell_type": "code",
      "source": [
        "n=int(input(\"請輸入正整數:\"))\n",
        "\n",
        "for i in range(2,n):\n",
        "    if n%i==0:\n",
        "        print(str(n)+\" 不是質數\")\n",
        "        break\n",
        "else:\n",
        "    print(str(n)+\"是質數\")"
      ],
      "metadata": {
        "colab": {
          "base_uri": "https://localhost:8080/"
        },
        "id": "BJdz_F6JaUF5",
        "outputId": "5e4bf817-180d-48c5-d8c3-7a11dbb2b9dc"
      },
      "execution_count": 23,
      "outputs": [
        {
          "output_type": "stream",
          "name": "stdout",
          "text": [
            "請輸入正整數:11\n",
            "11是質數\n"
          ]
        }
      ]
    }
  ]
}